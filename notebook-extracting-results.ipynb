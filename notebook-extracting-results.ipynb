{
 "cells": [
  {
   "cell_type": "markdown",
   "metadata": {},
   "source": [
    "This notebook provides a guide for extracting various calibration results from the model's HDF5 file, which is generally large, for analysis."
   ]
  },
  {
   "cell_type": "code",
   "execution_count": null,
   "metadata": {},
   "outputs": [],
   "source": [
    "import smash\n",
    "import pandas as pd\n",
    "import multiprocessing as mp\n",
    "from preprocessing import load_data\n",
    "import os\n",
    "import pickle"
   ]
  },
  {
   "cell_type": "code",
   "execution_count": null,
   "metadata": {},
   "outputs": [],
   "source": [
    "smash.__version__"
   ]
  },
  {
   "cell_type": "markdown",
   "metadata": {},
   "source": [
    "## 1. For local calibration"
   ]
  },
  {
   "cell_type": "markdown",
   "metadata": {},
   "source": [
    "Create score dataframe:"
   ]
  },
  {
   "cell_type": "code",
   "execution_count": null,
   "metadata": {},
   "outputs": [],
   "source": [
    "dir = \"models/local/p1/Uniform\"\n",
    "files = [os.path.join(dir, f) for f in os.listdir(dir)]\n",
    "\n",
    "ncpu = 10"
   ]
  },
  {
   "cell_type": "code",
   "execution_count": null,
   "metadata": {},
   "outputs": [],
   "source": [
    "def scores_local(filepath, end_warmup):\n",
    "\n",
    "    model = smash.io.read_model(filepath)\n",
    "    nse = smash.metrics(model, \"nse\", end_warmup)[0]\n",
    "    kge = smash.metrics(model, \"kge\", end_warmup)[0]\n",
    "\n",
    "    return model.mesh.code[0], nse, kge"
   ]
  },
  {
   "cell_type": "code",
   "execution_count": null,
   "metadata": {},
   "outputs": [],
   "source": [
    "END_WARMUP = \"2017-07-31\"\n",
    "\n",
    "pool = mp.Pool(ncpu)\n",
    "\n",
    "res = pool.starmap(\n",
    "    scores_local,\n",
    "    [\n",
    "        (f, END_WARMUP)\n",
    "        for f in files\n",
    "    ],\n",
    ")\n",
    "\n",
    "pool.close()"
   ]
  },
  {
   "cell_type": "code",
   "execution_count": null,
   "metadata": {},
   "outputs": [],
   "source": [
    "score = pd.DataFrame(data=res, columns=[\"code\", \"NSE_Uniform\", \"KGE_Uniform\"])\n",
    "score.to_csv(\"scores-local-u.csv\", index=False)"
   ]
  },
  {
   "cell_type": "markdown",
   "metadata": {},
   "source": [
    "Do the same thing for local-distributed to create ``scores-local-d.csv`` then merge these two files into ``scores-local.csv`` (you can do it simply by using Python with pandas or Excel)."
   ]
  },
  {
   "cell_type": "markdown",
   "metadata": {},
   "source": [
    "Next, we merge this new file with catchment information dataframe into ``scores.csv``."
   ]
  },
  {
   "cell_type": "code",
   "execution_count": null,
   "metadata": {},
   "outputs": [],
   "source": [
    "df1 = pd.read_csv(\"scores-local.csv\")\n",
    "df2 = pd.read_csv(\"catchment_info.csv\")\n",
    "\n",
    "merged_df = pd.merge(df1, df2[['code', 'nature']], on='code', how='left')\n",
    "\n",
    "# Reorder the columns\n",
    "columns_order = ['code', 'nature'] + [col for col in merged_df.columns if col != 'code' and col != 'nature']\n",
    "merged_df = merged_df[columns_order]"
   ]
  },
  {
   "cell_type": "code",
   "execution_count": null,
   "metadata": {},
   "outputs": [],
   "source": [
    "merged_df.to_csv(\"scores.csv\", index=False)"
   ]
  },
  {
   "cell_type": "markdown",
   "metadata": {},
   "source": [
    "## 2. For regionalization"
   ]
  },
  {
   "cell_type": "markdown",
   "metadata": {},
   "source": [
    "### 2.1. Extracting results from hdf5 to pickle file"
   ]
  },
  {
   "cell_type": "code",
   "execution_count": null,
   "metadata": {},
   "outputs": [],
   "source": [
    "csetup = \"upstream\"\n",
    "model_path = f\"models/p1/reg-{csetup}\"\n",
    "methods = [\"Uniform\", \"ANN\", \"Multi-linear\"]"
   ]
  },
  {
   "cell_type": "code",
   "execution_count": null,
   "metadata": {},
   "outputs": [],
   "source": [
    "models = {}\n",
    "for m in methods:\n",
    "    models[m] = smash.io.read_model(os.path.join(model_path, m+\".hdf5\"))"
   ]
  },
  {
   "cell_type": "code",
   "execution_count": null,
   "metadata": {},
   "outputs": [],
   "source": [
    "s_obs = {}\n",
    "s_sim = {}\n",
    "for method, model in models.items():\n",
    "    s_obs[method] = smash.signatures(model, domain=\"obs\")\n",
    "    s_sim[method] = smash.signatures(model, domain=\"sim\")"
   ]
  },
  {
   "cell_type": "code",
   "execution_count": null,
   "metadata": {},
   "outputs": [],
   "source": [
    "for method, model in models.items():\n",
    "    with open(os.path.join(f\"models/reg-{csetup}\", f\"{method}_parameters.pickle\"), \"wb\") as f:\n",
    "        pickle.dump({k: model.rr_parameters.values[..., i] for i, k in enumerate(model.rr_parameters.keys)}, f)\n",
    "    with open(os.path.join(f\"models/reg-{csetup}\", f\"{method}_signatures.pickle\"), \"wb\") as f:\n",
    "        pickle.dump({\"obs\": s_obs[method], \"sim\": s_sim[method]}, f)\n",
    "    with open(os.path.join(f\"models/reg-{csetup}\", f\"{method}_discharges.pickle\"), \"wb\") as f:\n",
    "        pickle.dump({\"obs\": model.response_data.q, \"sim\": model.response.q}, f)"
   ]
  },
  {
   "cell_type": "markdown",
   "metadata": {},
   "source": [
    "### 2.2. Create score dataframe"
   ]
  },
  {
   "cell_type": "code",
   "execution_count": null,
   "metadata": {},
   "outputs": [],
   "source": [
    "END_WARMUP = \"2017-07-31\"\n",
    "df_info = pd.read_csv(\"catchment_info.csv\")"
   ]
  },
  {
   "cell_type": "code",
   "execution_count": null,
   "metadata": {},
   "outputs": [],
   "source": [
    "def scores_reg(model, end_warmup):\n",
    "\n",
    "    nse = smash.metrics(model, \"nse\", end_warmup)\n",
    "    kge = smash.metrics(model, \"kge\", end_warmup)\n",
    "\n",
    "    return nse, kge"
   ]
  },
  {
   "cell_type": "code",
   "execution_count": null,
   "metadata": {},
   "outputs": [],
   "source": [
    "score = {\"code\": list(models.values())[0].mesh.code}\n",
    "\n",
    "for m in methods:\n",
    "    nse, kge = scores_reg(models[m], END_WARMUP)\n",
    "    score[\"NSE_\" + m] = nse.copy()\n",
    "    score[\"KGE_\" + m] = kge.copy()\n",
    "\n",
    "score = pd.DataFrame(score)"
   ]
  },
  {
   "cell_type": "code",
   "execution_count": null,
   "metadata": {},
   "outputs": [],
   "source": [
    "df_info[\"domain\"] = \"val\"\n",
    "df_info.loc[df_info[\"nature\"]==csetup, \"domain\"] = \"cal\""
   ]
  },
  {
   "cell_type": "code",
   "execution_count": null,
   "metadata": {},
   "outputs": [],
   "source": [
    "merged_df = pd.merge(score, df_info[['code', 'nature', 'domain']], on='code', how='left')\n",
    "\n",
    "# Reorder the columns\n",
    "columns_order = ['code', 'nature', 'domain'] \n",
    "columns_order += [col for col in merged_df.columns if not col in columns_order]\n",
    "\n",
    "merged_df = merged_df[columns_order]"
   ]
  },
  {
   "cell_type": "code",
   "execution_count": null,
   "metadata": {},
   "outputs": [],
   "source": [
    "merged_df.to_csv(f\"scores.csv\", index=False)"
   ]
  },
  {
   "cell_type": "markdown",
   "metadata": {},
   "source": [
    "## 3. For validation"
   ]
  },
  {
   "cell_type": "code",
   "execution_count": null,
   "metadata": {},
   "outputs": [],
   "source": [
    "path_p1 = \"models/reg-upstream/p1\"  # path to calibrated model on P1\n",
    "path_p2 = \"models/reg-upstream/p2\"  # expected path to create model on P2"
   ]
  },
  {
   "cell_type": "code",
   "execution_count": null,
   "metadata": {},
   "outputs": [],
   "source": [
    "setup, mesh = load_data(\n",
    "                        \"catchment_info.csv\", \n",
    "                        start_time=\"2020-08-01\",\n",
    "                        end_time=\"2022-07-31\",\n",
    "                        )"
   ]
  },
  {
   "cell_type": "code",
   "execution_count": null,
   "metadata": {},
   "outputs": [],
   "source": [
    "def create_model_p2(setup, mesh, path_p1, path_p2):\n",
    "\n",
    "    with open(path_p1 + \"_parameters.pickle\", \"rb\") as f:\n",
    "        rr_parameters = pickle.load(f)\n",
    "\n",
    "    model_p2 = smash.Model(setup, mesh)\n",
    "\n",
    "    for k in model_p2.rr_parameters.keys:\n",
    "        model_p2.set_rr_parameters(k, rr_parameters[k])\n",
    "\n",
    "    model_p2.forward_run()\n",
    "\n",
    "    smash.io.save_model(model_p2, path_p2 + \".hdf5\")"
   ]
  },
  {
   "cell_type": "code",
   "execution_count": null,
   "metadata": {},
   "outputs": [],
   "source": [
    "create_model_p2(setup, mesh, path_p1, path_p2)"
   ]
  }
 ],
 "metadata": {
  "kernelspec": {
   "display_name": "smash-dev",
   "language": "python",
   "name": "python3"
  },
  "language_info": {
   "codemirror_mode": {
    "name": "ipython",
    "version": 3
   },
   "file_extension": ".py",
   "mimetype": "text/x-python",
   "name": "python",
   "nbconvert_exporter": "python",
   "pygments_lexer": "ipython3",
   "version": "3.11.8"
  },
  "orig_nbformat": 4
 },
 "nbformat": 4,
 "nbformat_minor": 2
}
